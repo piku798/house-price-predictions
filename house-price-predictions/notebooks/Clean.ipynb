{
 "cells": [
  {
   "cell_type": "code",
   "execution_count": 2,
   "id": "f22182b4-3d72-49c4-9e62-5cc88ff70e0d",
   "metadata": {},
   "outputs": [
    {
     "name": "stdout",
     "output_type": "stream",
     "text": [
      "   MedInc  HouseAge  AveRooms  AveBedrms  Population  AveOccup  Latitude  \\\n",
      "0  8.3252      41.0  6.984127   1.023810       322.0  2.555556     37.88   \n",
      "1  8.3014      21.0  6.238137   0.971880      2401.0  2.109842     37.86   \n",
      "2  7.2574      52.0  8.288136   1.073446       496.0  2.802260     37.85   \n",
      "3  5.6431      52.0  5.817352   1.073059       558.0  2.547945     37.85   \n",
      "4  3.8462      52.0  6.281853   1.081081       565.0  2.181467     37.85   \n",
      "\n",
      "   Longitude  MedHouseVal  \n",
      "0    -122.23        4.526  \n",
      "1    -122.22        3.585  \n",
      "2    -122.24        3.521  \n",
      "3    -122.25        3.413  \n",
      "4    -122.25        3.422  \n"
     ]
    }
   ],
   "source": [
    "import pandas as pd\n",
    "\n",
    "# Path to your CSV file\n",
    "file_path = r'C:\\Users\\nnaya\\Desktop\\JOB\\project\\house-price-predictions\\house-price-predictions\\data\\raw\\california_house_prices.csv'\n",
    "\n",
    "# Load the data\n",
    "df = pd.read_csv(file_path)\n",
    "\n",
    "# Display the first few rows\n",
    "print(df.head())\n",
    "\n"
   ]
  },
  {
   "cell_type": "code",
   "execution_count": 5,
   "id": "d2ae7ec0-4719-489d-80c3-45bbfa7823ea",
   "metadata": {},
   "outputs": [
    {
     "name": "stdout",
     "output_type": "stream",
     "text": [
      "Shape: (20640, 9)\n"
     ]
    }
   ],
   "source": [
    "# Shape of the data\n",
    "print(\"Shape:\", df.shape)\n"
   ]
  },
  {
   "cell_type": "code",
   "execution_count": 6,
   "id": "622bed67-368d-46c0-ade4-2d09f6a66d1f",
   "metadata": {},
   "outputs": [
    {
     "name": "stdout",
     "output_type": "stream",
     "text": [
      "\n",
      "Info:\n",
      "<class 'pandas.core.frame.DataFrame'>\n",
      "RangeIndex: 20640 entries, 0 to 20639\n",
      "Data columns (total 9 columns):\n",
      " #   Column       Non-Null Count  Dtype  \n",
      "---  ------       --------------  -----  \n",
      " 0   MedInc       20640 non-null  float64\n",
      " 1   HouseAge     20640 non-null  float64\n",
      " 2   AveRooms     20640 non-null  float64\n",
      " 3   AveBedrms    20640 non-null  float64\n",
      " 4   Population   20640 non-null  float64\n",
      " 5   AveOccup     20640 non-null  float64\n",
      " 6   Latitude     20640 non-null  float64\n",
      " 7   Longitude    20640 non-null  float64\n",
      " 8   MedHouseVal  20640 non-null  float64\n",
      "dtypes: float64(9)\n",
      "memory usage: 1.4 MB\n",
      "None\n"
     ]
    }
   ],
   "source": [
    "print(\"\\nInfo:\")\n",
    "print(df.info())\n"
   ]
  },
  {
   "cell_type": "code",
   "execution_count": 7,
   "id": "448adc88-14f9-48f5-b444-dc7d87a96bb8",
   "metadata": {},
   "outputs": [
    {
     "name": "stdout",
     "output_type": "stream",
     "text": [
      "\n",
      "Summary Statistics:\n",
      "             MedInc      HouseAge      AveRooms     AveBedrms    Population  \\\n",
      "count  20640.000000  20640.000000  20640.000000  20640.000000  20640.000000   \n",
      "mean       3.870671     28.639486      5.429000      1.096675   1425.476744   \n",
      "std        1.899822     12.585558      2.474173      0.473911   1132.462122   \n",
      "min        0.499900      1.000000      0.846154      0.333333      3.000000   \n",
      "25%        2.563400     18.000000      4.440716      1.006079    787.000000   \n",
      "50%        3.534800     29.000000      5.229129      1.048780   1166.000000   \n",
      "75%        4.743250     37.000000      6.052381      1.099526   1725.000000   \n",
      "max       15.000100     52.000000    141.909091     34.066667  35682.000000   \n",
      "\n",
      "           AveOccup      Latitude     Longitude   MedHouseVal  \n",
      "count  20640.000000  20640.000000  20640.000000  20640.000000  \n",
      "mean       3.070655     35.631861   -119.569704      2.068558  \n",
      "std       10.386050      2.135952      2.003532      1.153956  \n",
      "min        0.692308     32.540000   -124.350000      0.149990  \n",
      "25%        2.429741     33.930000   -121.800000      1.196000  \n",
      "50%        2.818116     34.260000   -118.490000      1.797000  \n",
      "75%        3.282261     37.710000   -118.010000      2.647250  \n",
      "max     1243.333333     41.950000   -114.310000      5.000010  \n"
     ]
    }
   ],
   "source": [
    "print(\"\\nSummary Statistics:\")\n",
    "print(df.describe())"
   ]
  },
  {
   "cell_type": "code",
   "execution_count": 8,
   "id": "52c62591-9a5c-4424-ab27-85e80584b2ba",
   "metadata": {},
   "outputs": [
    {
     "name": "stdout",
     "output_type": "stream",
     "text": [
      "\n",
      "Missing Values:\n",
      "MedInc         0\n",
      "HouseAge       0\n",
      "AveRooms       0\n",
      "AveBedrms      0\n",
      "Population     0\n",
      "AveOccup       0\n",
      "Latitude       0\n",
      "Longitude      0\n",
      "MedHouseVal    0\n",
      "dtype: int64\n"
     ]
    }
   ],
   "source": [
    "print(\"\\nMissing Values:\")\n",
    "print(df.isnull().sum())"
   ]
  },
  {
   "cell_type": "code",
   "execution_count": 9,
   "id": "1f3498d2-f03b-4965-a5c1-532445d9d665",
   "metadata": {},
   "outputs": [],
   "source": [
    "import numpy as np\n",
    "\n",
    "# Cap AveRooms at 99th percentile\n",
    "room_cap = df['AveRooms'].quantile(0.99)\n",
    "df['AveRooms'] = np.where(df['AveRooms'] > room_cap, room_cap, df['AveRooms'])\n",
    "\n",
    "# Cap AveBedrms\n",
    "bedroom_cap = df['AveBedrms'].quantile(0.99)\n",
    "df['AveBedrms'] = np.where(df['AveBedrms'] > bedroom_cap, bedroom_cap, df['AveBedrms'])\n",
    "\n",
    "# Cap AveOccup\n",
    "occup_cap = df['AveOccup'].quantile(0.99)\n",
    "df['AveOccup'] = np.where(df['AveOccup'] > occup_cap, occup_cap, df['AveOccup'])\n",
    "\n",
    "# Cap Population\n",
    "pop_cap = df['Population'].quantile(0.99)\n",
    "df['Population'] = np.where(df['Population'] > pop_cap, pop_cap, df['Population'])\n"
   ]
  },
  {
   "cell_type": "code",
   "execution_count": 10,
   "id": "79af456c-8f9a-48b9-95a2-4995aeaff171",
   "metadata": {},
   "outputs": [],
   "source": [
    "from sklearn.preprocessing import StandardScaler\n",
    "\n",
    "scaler = StandardScaler()\n",
    "scaled_columns = ['MedInc', 'HouseAge', 'AveRooms', 'AveBedrms', 'Population', 'AveOccup']\n",
    "df[scaled_columns] = scaler.fit_transform(df[scaled_columns])\n"
   ]
  },
  {
   "cell_type": "code",
   "execution_count": 11,
   "id": "fbbf6e5b-f1ac-4bf7-bd74-64ee57087273",
   "metadata": {},
   "outputs": [],
   "source": [
    "df.columns = df.columns.str.strip().str.lower().str.replace(' ', '_')\n"
   ]
  },
  {
   "cell_type": "code",
   "execution_count": 12,
   "id": "6b41931c-9dda-4942-9499-526d9089e544",
   "metadata": {},
   "outputs": [
    {
     "name": "stdout",
     "output_type": "stream",
     "text": [
      "<class 'pandas.core.frame.DataFrame'>\n",
      "RangeIndex: 20640 entries, 0 to 20639\n",
      "Data columns (total 9 columns):\n",
      " #   Column       Non-Null Count  Dtype  \n",
      "---  ------       --------------  -----  \n",
      " 0   medinc       20640 non-null  float64\n",
      " 1   houseage     20640 non-null  float64\n",
      " 2   averooms     20640 non-null  float64\n",
      " 3   avebedrms    20640 non-null  float64\n",
      " 4   population   20640 non-null  float64\n",
      " 5   aveoccup     20640 non-null  float64\n",
      " 6   latitude     20640 non-null  float64\n",
      " 7   longitude    20640 non-null  float64\n",
      " 8   medhouseval  20640 non-null  float64\n",
      "dtypes: float64(9)\n",
      "memory usage: 1.4 MB\n",
      "None\n",
      "             medinc      houseage      averooms     avebedrms    population  \\\n",
      "count  2.064000e+04  2.064000e+04  2.064000e+04  2.064000e+04  2.064000e+04   \n",
      "mean   5.508083e-17  4.406467e-17  2.203233e-17  9.088337e-16  1.377021e-17   \n",
      "std    1.000024e+00  1.000024e+00  1.000024e+00  1.000024e+00  1.000024e+00   \n",
      "min   -1.774299e+00 -2.196180e+00 -3.371740e+00 -4.641885e+00 -1.438810e+00   \n",
      "25%   -6.881186e-01 -8.453931e-01 -6.690732e-01 -4.386499e-01 -6.334297e-01   \n",
      "50%   -1.767951e-01  2.864572e-02 -7.628447e-02 -1.718564e-01 -2.440939e-01   \n",
      "75%    4.593063e-01  6.643103e-01  5.426993e-01  1.451959e-01  3.301507e-01   \n",
      "max    5.858286e+00  1.856182e+00  3.779265e+00  6.568110e+00  4.522270e+00   \n",
      "\n",
      "           aveoccup      latitude     longitude   medhouseval  \n",
      "count  2.064000e+04  20640.000000  20640.000000  20640.000000  \n",
      "mean   3.359931e-16     35.631861   -119.569704      2.068558  \n",
      "std    1.000024e+00      2.135952      2.003532      1.153956  \n",
      "min   -3.025395e+00     32.540000   -124.350000      0.149990  \n",
      "25%   -6.606834e-01     33.930000   -121.800000      1.196000  \n",
      "50%   -1.320912e-01     34.260000   -118.490000      1.797000  \n",
      "75%    4.996279e-01     37.710000   -118.010000      2.647250  \n",
      "max    3.374889e+00     41.950000   -114.310000      5.000010  \n"
     ]
    }
   ],
   "source": [
    "print(df.info())\n",
    "print(df.describe())\n",
    "\n"
   ]
  },
  {
   "cell_type": "code",
   "execution_count": 13,
   "id": "5c59abee-9112-4ab7-94f7-a4287dd9b23c",
   "metadata": {},
   "outputs": [],
   "source": [
    "df.to_csv(r'C:\\Users\\nnaya\\Desktop\\JOB\\project\\house-price-predictions\\cleaned_data.csv', index=False)\n"
   ]
  },
  {
   "cell_type": "code",
   "execution_count": null,
   "id": "4808d44f-772b-4bc0-b775-ed2a45418b0c",
   "metadata": {},
   "outputs": [],
   "source": []
  }
 ],
 "metadata": {
  "kernelspec": {
   "display_name": "Python 3 (ipykernel)",
   "language": "python",
   "name": "python3"
  },
  "language_info": {
   "codemirror_mode": {
    "name": "ipython",
    "version": 3
   },
   "file_extension": ".py",
   "mimetype": "text/x-python",
   "name": "python",
   "nbconvert_exporter": "python",
   "pygments_lexer": "ipython3",
   "version": "3.13.1"
  }
 },
 "nbformat": 4,
 "nbformat_minor": 5
}
